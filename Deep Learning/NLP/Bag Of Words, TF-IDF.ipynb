{
 "cells": [
  {
   "cell_type": "code",
   "execution_count": 11,
   "id": "7dbf8a7a-3393-49bb-b75e-0f262bd9442a",
   "metadata": {},
   "outputs": [],
   "source": [
    "import re\n",
    "import nltk\n",
    "from nltk.corpus import stopwords\n",
    "from nltk.tokenize import word_tokenize\n",
    "from nltk.stem import WordNetLemmatizer\n",
    "from sklearn.feature_extraction.text import CountVectorizer, TfidfVectorizer"
   ]
  },
  {
   "cell_type": "code",
   "execution_count": 4,
   "id": "767edf7d-0849-4aba-84a1-f73985e6e72a",
   "metadata": {},
   "outputs": [
    {
     "name": "stderr",
     "output_type": "stream",
     "text": [
      "[nltk_data] Downloading package punkt to\n",
      "[nltk_data]     C:\\Users\\yatha\\AppData\\Roaming\\nltk_data...\n",
      "[nltk_data]   Package punkt is already up-to-date!\n",
      "[nltk_data] Downloading package stopwords to\n",
      "[nltk_data]     C:\\Users\\yatha\\AppData\\Roaming\\nltk_data...\n",
      "[nltk_data]   Package stopwords is already up-to-date!\n",
      "[nltk_data] Downloading package wordnet to\n",
      "[nltk_data]     C:\\Users\\yatha\\AppData\\Roaming\\nltk_data...\n",
      "[nltk_data]   Package wordnet is already up-to-date!\n"
     ]
    },
    {
     "data": {
      "text/plain": [
       "True"
      ]
     },
     "execution_count": 4,
     "metadata": {},
     "output_type": "execute_result"
    }
   ],
   "source": [
    "# Download necessary NLTK data files\n",
    "nltk.download('punkt')\n",
    "nltk.download('stopwords')\n",
    "nltk.download('wordnet')"
   ]
  },
  {
   "cell_type": "markdown",
   "id": "4340b9b0-30e2-4354-b026-2b8746a8bc71",
   "metadata": {},
   "source": [
    "## Tokenization, Lammatisation, StopWords, Removing Special Characters"
   ]
  },
  {
   "cell_type": "code",
   "execution_count": 20,
   "id": "e8fde616-bc65-4698-9233-a8c6d57e6d66",
   "metadata": {},
   "outputs": [],
   "source": [
    "def preprocess_paragraph(paragraph):\n",
    "    # Remove special characters\n",
    "    paragraph = re.sub(r'[^A-Za-z0-9\\s]', '', paragraph)\n",
    "    \n",
    "    # Convert to lowercase\n",
    "    paragraph = paragraph.lower()\n",
    "    \n",
    "    # Tokenize the paragraph into words\n",
    "    tokens = word_tokenize(paragraph)\n",
    "    \n",
    "    # Remove stopwords\n",
    "    stop_words = set(stopwords.words('english'))\n",
    "    filtered_tokens = [word for word in tokens if word not in stop_words]\n",
    "    \n",
    "    # Lemmatize the tokens\n",
    "    lemmatizer = WordNetLemmatizer()\n",
    "    lemmatized_tokens = [lemmatizer.lemmatize(word) for word in filtered_tokens]\n",
    "    \n",
    "    return ' '.join(lemmatized_tokens)"
   ]
  },
  {
   "cell_type": "code",
   "execution_count": 30,
   "id": "0d645ee6-34c6-4fa8-8002-eb055f1d56af",
   "metadata": {},
   "outputs": [
    {
     "name": "stdout",
     "output_type": "stream",
     "text": [
      "example paragraph processed remove stopwords converted lowercase tokenized lemmatized\n"
     ]
    },
    {
     "data": {
      "text/plain": [
       "str"
      ]
     },
     "execution_count": 30,
     "metadata": {},
     "output_type": "execute_result"
    }
   ],
   "source": [
    "# Example usage\n",
    "paragraph = \"This is an example paragraph! It will be processed to remove stopwords, converted to lowercase, tokenized, and lemmatized.\"\n",
    "processed_tokens = preprocess_paragraph(paragraph)\n",
    "print(processed_tokens)"
   ]
  },
  {
   "cell_type": "code",
   "execution_count": 22,
   "id": "b140f37d-efa9-4583-9b7a-9e4c202d5df1",
   "metadata": {},
   "outputs": [],
   "source": [
    "paragraphs = [\n",
    "    \"This is the first example paragraph. It will be processed to remove stopwords, converted to lowercase, tokenized, and lemmatized.\",\n",
    "    \"Here is another example! This paragraph will also go through the same preprocessing steps.\",\n",
    "    \"Preprocessing is an important step in natural language processing.\"\n",
    "]"
   ]
  },
  {
   "cell_type": "code",
   "execution_count": 23,
   "id": "7bee8186-68c6-4145-8e5f-082c43a3d3f0",
   "metadata": {},
   "outputs": [],
   "source": [
    "# Preprocess the paragraphs\n",
    "preprocessed_paragraphs = [preprocess_paragraph(paragraph) for paragraph in paragraphs]"
   ]
  },
  {
   "cell_type": "markdown",
   "id": "f2b1eb46-df3f-4b65-82a1-916740d6cf1f",
   "metadata": {},
   "source": [
    "## Bag Of Words"
   ]
  },
  {
   "cell_type": "code",
   "execution_count": 24,
   "id": "75ef0ba6-7d81-423b-bd8b-94137592de1b",
   "metadata": {},
   "outputs": [],
   "source": [
    "# Apply Bag of Words model\n",
    "vectorizer = CountVectorizer()\n",
    "bow_matrix = vectorizer.fit_transform(preprocessed_paragraphs)"
   ]
  },
  {
   "cell_type": "code",
   "execution_count": 25,
   "id": "d71b8311-128b-43b3-85d3-1cd1cf105bb1",
   "metadata": {},
   "outputs": [
    {
     "name": "stdout",
     "output_type": "stream",
     "text": [
      "Bag of Words matrix:\n",
      "[[0 0 1 1 1 0 0 0 1 1 0 1 0 1 0 1 0 1 1]\n",
      " [1 1 0 1 0 1 0 0 0 0 0 1 1 0 0 0 1 0 0]\n",
      " [0 0 0 0 0 0 1 1 0 0 1 0 1 0 1 0 1 0 0]]\n"
     ]
    }
   ],
   "source": [
    "print(\"Bag of Words matrix:\")\n",
    "print(bow_matrix.toarray())"
   ]
  },
  {
   "cell_type": "code",
   "execution_count": 26,
   "id": "782beee0-614d-456c-b6ce-55386e1b1eea",
   "metadata": {},
   "outputs": [
    {
     "name": "stdout",
     "output_type": "stream",
     "text": [
      "Feature names (Bag of Words):\n",
      "['also' 'another' 'converted' 'example' 'first' 'go' 'important'\n",
      " 'language' 'lemmatized' 'lowercase' 'natural' 'paragraph' 'preprocessing'\n",
      " 'processed' 'processing' 'remove' 'step' 'stopwords' 'tokenized']\n"
     ]
    }
   ],
   "source": [
    "print(\"Feature names (Bag of Words):\")\n",
    "print(vectorizer.get_feature_names_out())"
   ]
  },
  {
   "cell_type": "markdown",
   "id": "821f322f-a441-4d40-9891-d7fbf240d162",
   "metadata": {},
   "source": [
    "## TF-IDF"
   ]
  },
  {
   "cell_type": "code",
   "execution_count": 27,
   "id": "d6bb7ec9-5a33-48be-9cc1-e2eba0f3f79b",
   "metadata": {},
   "outputs": [],
   "source": [
    "# Apply TF-IDF\n",
    "tfidf_vectorizer = TfidfVectorizer()\n",
    "tfidf_matrix = tfidf_vectorizer.fit_transform(preprocessed_paragraphs)"
   ]
  },
  {
   "cell_type": "code",
   "execution_count": 28,
   "id": "8354da04-9945-40d7-b685-f301c140bcd9",
   "metadata": {},
   "outputs": [
    {
     "name": "stdout",
     "output_type": "stream",
     "text": [
      "TF-IDF matrix:\n",
      "[[0.         0.         0.33046705 0.25132871 0.33046705 0.\n",
      "  0.         0.         0.33046705 0.33046705 0.         0.25132871\n",
      "  0.         0.33046705 0.         0.33046705 0.         0.33046705\n",
      "  0.33046705]\n",
      " [0.43381609 0.43381609 0.         0.32992832 0.         0.43381609\n",
      "  0.         0.         0.         0.         0.         0.32992832\n",
      "  0.32992832 0.         0.         0.         0.32992832 0.\n",
      "  0.        ]\n",
      " [0.         0.         0.         0.         0.         0.\n",
      "  0.44036207 0.44036207 0.         0.         0.44036207 0.\n",
      "  0.3349067  0.         0.44036207 0.         0.3349067  0.\n",
      "  0.        ]]\n"
     ]
    }
   ],
   "source": [
    "print(\"TF-IDF matrix:\")\n",
    "print(tfidf_matrix.toarray())"
   ]
  },
  {
   "cell_type": "code",
   "execution_count": 29,
   "id": "6321e89b-772a-4817-bbe5-3773c0ed2a6c",
   "metadata": {},
   "outputs": [
    {
     "name": "stdout",
     "output_type": "stream",
     "text": [
      "Feature names (TF-IDF):\n",
      "['also' 'another' 'converted' 'example' 'first' 'go' 'important'\n",
      " 'language' 'lemmatized' 'lowercase' 'natural' 'paragraph' 'preprocessing'\n",
      " 'processed' 'processing' 'remove' 'step' 'stopwords' 'tokenized']\n"
     ]
    }
   ],
   "source": [
    "print(\"Feature names (TF-IDF):\")\n",
    "print(tfidf_vectorizer.get_feature_names_out())"
   ]
  },
  {
   "cell_type": "code",
   "execution_count": null,
   "id": "44d6a049-7e46-4253-8ebc-e1bac0b6037b",
   "metadata": {},
   "outputs": [],
   "source": []
  },
  {
   "cell_type": "code",
   "execution_count": null,
   "id": "c5196a80-79e6-4530-87aa-c5ea2e0ced1a",
   "metadata": {},
   "outputs": [],
   "source": []
  },
  {
   "cell_type": "code",
   "execution_count": null,
   "id": "b6ae43f6-d540-4e5a-a732-3a991d1e2542",
   "metadata": {},
   "outputs": [],
   "source": []
  },
  {
   "cell_type": "code",
   "execution_count": null,
   "id": "608535cf-0d89-44bc-9b6a-067e9c9a9565",
   "metadata": {},
   "outputs": [],
   "source": []
  },
  {
   "cell_type": "code",
   "execution_count": null,
   "id": "6d1d83ee-2a18-4899-9d2a-2a0bec4560bb",
   "metadata": {},
   "outputs": [],
   "source": []
  },
  {
   "cell_type": "code",
   "execution_count": null,
   "id": "8f305a68-9c49-400d-8de7-1f46ae6799ed",
   "metadata": {},
   "outputs": [],
   "source": []
  },
  {
   "cell_type": "code",
   "execution_count": null,
   "id": "51313b78-c68e-4820-8e99-dddf2191fabe",
   "metadata": {},
   "outputs": [],
   "source": []
  },
  {
   "cell_type": "code",
   "execution_count": null,
   "id": "a3cf46b0-f868-40c8-9a16-32fada00fe3c",
   "metadata": {},
   "outputs": [],
   "source": []
  },
  {
   "cell_type": "code",
   "execution_count": null,
   "id": "0a2d8e82-7f91-43d4-8f66-960186da8bed",
   "metadata": {},
   "outputs": [],
   "source": []
  }
 ],
 "metadata": {
  "kernelspec": {
   "display_name": "Python 3 (ipykernel)",
   "language": "python",
   "name": "python3"
  },
  "language_info": {
   "codemirror_mode": {
    "name": "ipython",
    "version": 3
   },
   "file_extension": ".py",
   "mimetype": "text/x-python",
   "name": "python",
   "nbconvert_exporter": "python",
   "pygments_lexer": "ipython3",
   "version": "3.12.3"
  }
 },
 "nbformat": 4,
 "nbformat_minor": 5
}
